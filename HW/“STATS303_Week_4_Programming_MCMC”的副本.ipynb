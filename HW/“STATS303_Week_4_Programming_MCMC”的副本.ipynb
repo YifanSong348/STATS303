{
  "nbformat": 4,
  "nbformat_minor": 0,
  "metadata": {
    "colab": {
      "name": "“STATS303_Week 4 - Programming: MCMC”的副本",
      "provenance": [],
      "collapsed_sections": [],
      "authorship_tag": "ABX9TyOeQ6askzUd4Gsnqv2Oz2+Q",
      "include_colab_link": true
    },
    "kernelspec": {
      "name": "python3",
      "display_name": "Python 3"
    },
    "language_info": {
      "name": "python"
    }
  },
  "cells": [
    {
      "cell_type": "markdown",
      "metadata": {
        "id": "view-in-github",
        "colab_type": "text"
      },
      "source": [
        "<a href=\"https://colab.research.google.com/github/YifanSong348/STATS303/blob/main/HW/%E2%80%9CSTATS303_Week_4_Programming_MCMC%E2%80%9D%E7%9A%84%E5%89%AF%E6%9C%AC.ipynb\" target=\"_parent\"><img src=\"https://colab.research.google.com/assets/colab-badge.svg\" alt=\"Open In Colab\"/></a>"
      ]
    },
    {
      "cell_type": "markdown",
      "metadata": {
        "id": "sTNuUWhMBUqG"
      },
      "source": [
        "You can either check the PDF version in below or access the code and result from this colab link: https://colab.research.google.com/drive/19JNSAVbgEitQuu9HlgAJFKhsN1d0jeaX?usp=sharing"
      ]
    },
    {
      "cell_type": "markdown",
      "metadata": {
        "id": "tLKex7IpgGoN"
      },
      "source": [
        "#Week 4 - Homework - Yifan Song (ys251)\n",
        "###Problem 1. Programming: MCMC\n"
      ]
    },
    {
      "cell_type": "code",
      "metadata": {
        "id": "HtnW59mpqg4o"
      },
      "source": [
        "import numpy as np\n",
        "import pandas as pd\n",
        "import scipy.stats as st\n",
        "import seaborn as sns\n",
        "import matplotlib.pyplot as plt\n",
        "import sympy\n",
        "import math"
      ],
      "execution_count": null,
      "outputs": []
    },
    {
      "cell_type": "markdown",
      "metadata": {
        "id": "wiHh4Rp6UY-F"
      },
      "source": [
        "##**1.** Use Metropolis-Hastings methods, sample 10000 points following `p(x1, x2)` and plot them. You can use your favourite proposal kernel, or just employ the Gaussian proposal used in the lecture."
      ]
    },
    {
      "cell_type": "code",
      "metadata": {
        "colab": {
          "base_uri": "https://localhost:8080/",
          "height": 497
        },
        "id": "91AeKMpfJ95i",
        "outputId": "49cf1105-c305-41c8-e7c4-290cccf41959"
      },
      "source": [
        "# mus = np.array([5, 5])\n",
        "# sigmas = np.array([[1, .9], [.9, 1]])\n",
        "\n",
        "\n",
        "# def circle(x, y):\n",
        "#     return (x-1)**2 + (y-2)**2 - 3**2\n",
        "\n",
        "\n",
        "def pRosenbrock(x, y):\n",
        "    return math.exp(-(((1-x)**2) + 100*((y-x**2)**2))/20)\n",
        "\n",
        "def metropolis_hastings(p, iter=1000):\n",
        "    x, y = 0., 0.\n",
        "    samples = np.zeros((iter, 2))\n",
        "\n",
        "    for i in range(iter):\n",
        "        x_star, y_star = np.array([x, y]) + np.random.normal(size=2)\n",
        "        if np.random.rand() < p(x_star, y_star) / p(x, y):\n",
        "            x, y = x_star, y_star\n",
        "        samples[i] = np.array([x, y])\n",
        "\n",
        "    return samples\n",
        "\n",
        "\n",
        "if __name__ == '__main__':\n",
        "    # samples = metropolis_hastings(circle, iter=10000)\n",
        "    # sns.jointplot(samples[:, 0], samples[:, 1])\n",
        "\n",
        "    samples = metropolis_hastings(pRosenbrock, iter=10000)\n",
        "    sns.jointplot(samples[:, 0], samples[:, 1])"
      ],
      "execution_count": null,
      "outputs": [
        {
          "output_type": "stream",
          "name": "stderr",
          "text": [
            "/usr/local/lib/python3.7/dist-packages/seaborn/_decorators.py:43: FutureWarning: Pass the following variables as keyword args: x, y. From version 0.12, the only valid positional argument will be `data`, and passing other arguments without an explicit keyword will result in an error or misinterpretation.\n",
            "  FutureWarning\n"
          ]
        },
        {
          "output_type": "display_data",
          "data": {
            "image/png": "[encoded data removed]",
            "text/plain": [
              "<Figure size 432x432 with 3 Axes>"
            ]
          },
          "metadata": {
            "needs_background": "light"
          }
        }
      ]
    },
    {
      "cell_type": "markdown",
      "metadata": {
        "id": "lrhKlyi9rBKR"
      },
      "source": [
        "##**2.** Approximate `s` accordingly"
      ]
    },
    {
      "cell_type": "code",
      "metadata": {
        "id": "bVtSfiz8QNVi"
      },
      "source": [
        "import sympy as sp \n",
        "from sympy import *\n",
        "from scipy import integrate"
      ],
      "execution_count": null,
      "outputs": []
    },
    {
      "cell_type": "code",
      "metadata": {
        "id": "hT9kPH_UEdo2"
      },
      "source": [
        "def integrand(y, x):\n",
        "    'y must be the first argument, and x the second.'\n",
        "    return (sympy.exp(-(((1-y)**2) + 100*((x-y**2)**2))/20))/(1 + sympy.exp(-(x+y)))"
      ],
      "execution_count": null,
      "outputs": []
    },
    {
      "cell_type": "code",
      "metadata": {
        "id": "9v_E45F-EvAY",
        "colab": {
          "base_uri": "https://localhost:8080/"
        },
        "outputId": "a131294e-7b04-437b-c66c-9c3e6205f776"
      },
      "source": [
        "ans, err = integrate.dblquad(integrand, samples[0, 0], samples[9999, 0],\n",
        "                   lambda x: samples[0, 0],\n",
        "                   lambda x: samples[9999, 0])\n",
        "print (ans)"
      ],
      "execution_count": null,
      "outputs": [
        {
          "output_type": "stream",
          "name": "stdout",
          "text": [
            "0.8812263281180668\n"
          ]
        }
      ]
    }
  ]
}